{
 "cells": [
  {
   "cell_type": "code",
   "execution_count": 23,
   "metadata": {},
   "outputs": [
    {
     "data": {
      "text/plain": "<Figure size 432x288 with 1 Axes>",
      "image/png": "[encoded data removed]"
     },
     "metadata": {
      "needs_background": "light"
     },
     "output_type": "display_data"
    }
   ],
   "source": [
    "#https://machinelearningmastery.com/time-series-prediction-lstm-recurrent-neural-networks-python-keras/\n",
    "\n",
    "import pandas\n",
    "import numpy\n",
    "import matplotlib.pyplot as plt\n",
    "import math\n",
    "from keras.models import Sequential\n",
    "from keras.layers import Dense\n",
    "from keras.layers import LSTM\n",
    "from sklearn.preprocessing import MinMaxScaler\n",
    "from sklearn.metrics import mean_squared_error\n",
    "\n",
    "# load the dataset\n",
    "dataframe = pandas.read_csv('bezette_parkeerplaatsen.csv', usecols=['value'])\n",
    "dataset = dataframe.values\n",
    "\n",
    "plt.plot(dataset)\n",
    "plt.show()"
   ]
  },
  {
   "cell_type": "code",
   "execution_count": 24,
   "metadata": {
    "pycharm": {
     "name": "#%%\n"
    }
   },
   "outputs": [],
   "source": [
    "# fix random seed for reproducibility\n",
    "numpy.random.seed(7)"
   ]
  },
  {
   "cell_type": "code",
   "execution_count": 25,
   "metadata": {
    "pycharm": {
     "name": "#%%\n"
    }
   },
   "outputs": [],
   "source": [
    "# normalize the dataset\n",
    "scaler = MinMaxScaler(feature_range=(0, 1))\n",
    "dataset = scaler.fit_transform(dataset)"
   ]
  },
  {
   "cell_type": "code",
   "execution_count": 26,
   "metadata": {
    "pycharm": {
     "name": "#%%\n"
    }
   },
   "outputs": [
    {
     "name": "stdout",
     "output_type": "stream",
     "text": [
      "52213 25717\n"
     ]
    }
   ],
   "source": [
    "# split into train and test sets\n",
    "train_size = int(len(dataset) * 0.67)\n",
    "test_size = len(dataset) - train_size\n",
    "train, test = dataset[0:train_size,:], dataset[train_size:len(dataset),:]\n",
    "print(len(train), len(test))"
   ]
  },
  {
   "cell_type": "code",
   "execution_count": 27,
   "metadata": {
    "pycharm": {
     "name": "#%%\n"
    }
   },
   "outputs": [],
   "source": [
    "# convert an array of values into a dataset matrix\n",
    "def create_dataset(dataset, look_back=1):\n",
    "\tdataX, dataY = [], []\n",
    "\tfor i in range(len(dataset)-look_back-1):\n",
    "\t\ta = dataset[i:(i+look_back), 0]\n",
    "\t\tdataX.append(a)\n",
    "\t\tdataY.append(dataset[i + look_back, 0])\n",
    "\treturn numpy.array(dataX), numpy.array(dataY)"
   ]
  },
  {
   "cell_type": "code",
   "execution_count": 28,
   "metadata": {
    "pycharm": {
     "name": "#%%\n"
    }
   },
   "outputs": [],
   "source": [
    "# reshape into X=t and Y=t+1\n",
    "look_back = 10\n",
    "trainX, trainY = create_dataset(train, look_back)\n",
    "testX, testY = create_dataset(test, look_back)"
   ]
  },
  {
   "cell_type": "code",
   "execution_count": 29,
   "metadata": {
    "pycharm": {
     "name": "#%%\n"
    }
   },
   "outputs": [],
   "source": [
    "# reshape input to be [samples, time steps, features]\n",
    "trainX = numpy.reshape(trainX, (trainX.shape[0], 1, trainX.shape[1]))\n",
    "testX = numpy.reshape(testX, (testX.shape[0], 1, testX.shape[1]))"
   ]
  },
  {
   "cell_type": "code",
   "execution_count": 30,
   "metadata": {
    "pycharm": {
     "name": "#%%\n"
    }
   },
   "outputs": [
    {
     "name": "stdout",
     "output_type": "stream",
     "text": [
      "Epoch 1/100\n",
      "52202/52202 [==============================] - 34s 638us/step - loss: 0.0060\n",
      "Epoch 2/100\n",
      "52202/52202 [==============================] - 34s 646us/step - loss: 0.0056\n",
      "Epoch 3/100\n",
      "52202/52202 [==============================] - 35s 676us/step - loss: 0.0056\n",
      "Epoch 4/100\n",
      "52202/52202 [==============================] - 35s 679us/step - loss: 0.0055\n",
      "Epoch 5/100\n",
      "52202/52202 [==============================] - 34s 642us/step - loss: 0.0055\n",
      "Epoch 6/100\n",
      "52202/52202 [==============================] - 32s 605us/step - loss: 0.0054\n",
      "Epoch 7/100\n",
      "52202/52202 [==============================] - 32s 609us/step - loss: 0.0054\n",
      "Epoch 8/100\n",
      "52202/52202 [==============================] - 32s 612us/step - loss: 0.0054\n",
      "Epoch 9/100\n",
      "52202/52202 [==============================] - 32s 613us/step - loss: 0.0054\n",
      "Epoch 10/100\n",
      "52202/52202 [==============================] - 31s 593us/step - loss: 0.0053\n",
      "Epoch 11/100\n",
      "52202/52202 [==============================] - 31s 590us/step - loss: 0.0053\n",
      "Epoch 12/100\n",
      "52202/52202 [==============================] - 33s 630us/step - loss: 0.0053\n",
      "Epoch 13/100\n",
      "52202/52202 [==============================] - 33s 641us/step - loss: 0.0053\n",
      "Epoch 14/100\n",
      "52202/52202 [==============================] - 33s 629us/step - loss: 0.0053\n",
      "Epoch 15/100\n",
      "52202/52202 [==============================] - 33s 635us/step - loss: 0.0052\n",
      "Epoch 16/100\n",
      "52202/52202 [==============================] - 32s 618us/step - loss: 0.0052\n",
      "Epoch 17/100\n",
      "52202/52202 [==============================] - 32s 619us/step - loss: 0.0052\n",
      "Epoch 18/100\n",
      "52202/52202 [==============================] - 33s 631us/step - loss: 0.0052\n",
      "Epoch 19/100\n",
      "52202/52202 [==============================] - 32s 612us/step - loss: 0.0052\n",
      "Epoch 20/100\n",
      "52202/52202 [==============================] - 31s 595us/step - loss: 0.0052\n",
      "Epoch 21/100\n",
      "52202/52202 [==============================] - 31s 598us/step - loss: 0.0052\n",
      "Epoch 22/100\n",
      "52202/52202 [==============================] - 32s 619us/step - loss: 0.0052\n",
      "Epoch 23/100\n",
      "52202/52202 [==============================] - 31s 602us/step - loss: 0.0051\n",
      "Epoch 24/100\n",
      "52202/52202 [==============================] - 32s 617us/step - loss: 0.0051\n",
      "Epoch 25/100\n",
      "52202/52202 [==============================] - 30s 580us/step - loss: 0.0051\n",
      "Epoch 26/100\n",
      "52202/52202 [==============================] - 30s 575us/step - loss: 0.0051\n",
      "Epoch 27/100\n",
      "52202/52202 [==============================] - 30s 567us/step - loss: 0.0051\n",
      "Epoch 28/100\n",
      "52202/52202 [==============================] - 30s 577us/step - loss: 0.0051\n",
      "Epoch 29/100\n",
      "52202/52202 [==============================] - 30s 569us/step - loss: 0.0051\n",
      "Epoch 30/100\n",
      "52202/52202 [==============================] - 30s 567us/step - loss: 0.0051\n",
      "Epoch 31/100\n",
      "52202/52202 [==============================] - 30s 566us/step - loss: 0.0051\n",
      "Epoch 32/100\n",
      "52202/52202 [==============================] - 30s 569us/step - loss: 0.0051\n",
      "Epoch 33/100\n",
      "52202/52202 [==============================] - 30s 575us/step - loss: 0.0051\n",
      "Epoch 34/100\n",
      "52202/52202 [==============================] - 30s 576us/step - loss: 0.0051\n",
      "Epoch 35/100\n",
      "52202/52202 [==============================] - 30s 571us/step - loss: 0.0051\n",
      "Epoch 36/100\n",
      "52202/52202 [==============================] - 32s 618us/step - loss: 0.0051\n",
      "Epoch 37/100\n",
      "52202/52202 [==============================] - 34s 645us/step - loss: 0.0051\n",
      "Epoch 38/100\n",
      "52202/52202 [==============================] - 32s 610us/step - loss: 0.0051\n",
      "Epoch 39/100\n",
      "52202/52202 [==============================] - 34s 654us/step - loss: 0.0051\n",
      "Epoch 40/100\n",
      "52202/52202 [==============================] - 34s 645us/step - loss: 0.0050\n",
      "Epoch 41/100\n",
      "52202/52202 [==============================] - 34s 644us/step - loss: 0.0051\n",
      "Epoch 42/100\n",
      "52202/52202 [==============================] - 32s 618us/step - loss: 0.0050\n",
      "Epoch 43/100\n",
      "52202/52202 [==============================] - 33s 633us/step - loss: 0.0050\n",
      "Epoch 44/100\n",
      "52202/52202 [==============================] - 32s 621us/step - loss: 0.0050\n",
      "Epoch 45/100\n",
      "52202/52202 [==============================] - 32s 620us/step - loss: 0.0050\n",
      "Epoch 46/100\n",
      "52202/52202 [==============================] - 33s 628us/step - loss: 0.0050\n",
      "Epoch 47/100\n",
      "52202/52202 [==============================] - 35s 670us/step - loss: 0.0050\n",
      "Epoch 48/100\n",
      "52202/52202 [==============================] - 32s 604us/step - loss: 0.0050\n",
      "Epoch 49/100\n",
      "52202/52202 [==============================] - 32s 606us/step - loss: 0.0050\n",
      "Epoch 50/100\n",
      "52202/52202 [==============================] - 33s 640us/step - loss: 0.0050\n",
      "Epoch 51/100\n",
      "52202/52202 [==============================] - 32s 607us/step - loss: 0.0050\n",
      "Epoch 52/100\n",
      "52202/52202 [==============================] - 32s 615us/step - loss: 0.0050\n",
      "Epoch 53/100\n",
      "52202/52202 [==============================] - 34s 655us/step - loss: 0.0050\n",
      "Epoch 54/100\n",
      "52202/52202 [==============================] - 36s 687us/step - loss: 0.0050\n",
      "Epoch 55/100\n",
      "52202/52202 [==============================] - 30s 581us/step - loss: 0.0050\n",
      "Epoch 56/100\n",
      "52202/52202 [==============================] - 30s 566us/step - loss: 0.0050\n",
      "Epoch 57/100\n",
      "52202/52202 [==============================] - 30s 571us/step - loss: 0.0050\n",
      "Epoch 58/100\n",
      "52202/52202 [==============================] - 30s 577us/step - loss: 0.0050\n",
      "Epoch 59/100\n",
      "52202/52202 [==============================] - 31s 585us/step - loss: 0.0050\n",
      "Epoch 60/100\n",
      "52202/52202 [==============================] - 31s 603us/step - loss: 0.0050\n",
      "Epoch 61/100\n",
      "52202/52202 [==============================] - 31s 596us/step - loss: 0.0050\n",
      "Epoch 62/100\n",
      "52202/52202 [==============================] - 32s 621us/step - loss: 0.0050\n",
      "Epoch 63/100\n",
      "52202/52202 [==============================] - 34s 642us/step - loss: 0.0050\n",
      "Epoch 64/100\n",
      "52202/52202 [==============================] - 31s 601us/step - loss: 0.0050\n",
      "Epoch 65/100\n",
      "52202/52202 [==============================] - 30s 580us/step - loss: 0.0050\n",
      "Epoch 66/100\n",
      "52202/52202 [==============================] - 30s 576us/step - loss: 0.0050\n",
      "Epoch 67/100\n",
      "52202/52202 [==============================] - 31s 591us/step - loss: 0.0050\n",
      "Epoch 68/100\n",
      "52202/52202 [==============================] - 30s 576us/step - loss: 0.0050\n",
      "Epoch 69/100\n",
      "52202/52202 [==============================] - 31s 586us/step - loss: 0.0050\n",
      "Epoch 70/100\n",
      "52202/52202 [==============================] - 32s 621us/step - loss: 0.0050\n",
      "Epoch 71/100\n",
      "52202/52202 [==============================] - 33s 636us/step - loss: 0.0050\n",
      "Epoch 72/100\n",
      "52202/52202 [==============================] - 34s 652us/step - loss: 0.0050\n",
      "Epoch 73/100\n",
      "52202/52202 [==============================] - 34s 653us/step - loss: 0.0050\n",
      "Epoch 74/100\n",
      "52202/52202 [==============================] - 32s 619us/step - loss: 0.0050\n",
      "Epoch 75/100\n",
      "52202/52202 [==============================] - 32s 615us/step - loss: 0.0050\n",
      "Epoch 76/100\n",
      "52202/52202 [==============================] - 32s 612us/step - loss: 0.0050\n",
      "Epoch 77/100\n",
      "52202/52202 [==============================] - 32s 611us/step - loss: 0.0050\n",
      "Epoch 78/100\n",
      "52202/52202 [==============================] - 32s 614us/step - loss: 0.0050\n",
      "Epoch 79/100\n",
      "52202/52202 [==============================] - 32s 621us/step - loss: 0.0050\n",
      "Epoch 80/100\n",
      "52202/52202 [==============================] - 32s 608us/step - loss: 0.0050\n",
      "Epoch 81/100\n",
      "52202/52202 [==============================] - 32s 611us/step - loss: 0.0050\n",
      "Epoch 82/100\n",
      "52202/52202 [==============================] - 33s 626us/step - loss: 0.0050\n",
      "Epoch 83/100\n",
      "52202/52202 [==============================] - 33s 630us/step - loss: 0.0050\n",
      "Epoch 84/100\n",
      "52202/52202 [==============================] - 32s 611us/step - loss: 0.0050\n",
      "Epoch 85/100\n",
      "52202/52202 [==============================] - 31s 603us/step - loss: 0.0050\n",
      "Epoch 86/100\n",
      "52202/52202 [==============================] - 32s 615us/step - loss: 0.0050\n",
      "Epoch 87/100\n",
      "52202/52202 [==============================] - 33s 640us/step - loss: 0.0050\n",
      "Epoch 88/100\n",
      "52202/52202 [==============================] - 33s 626us/step - loss: 0.0050\n",
      "Epoch 89/100\n",
      "52202/52202 [==============================] - 33s 634us/step - loss: 0.0050\n",
      "Epoch 90/100\n",
      "52202/52202 [==============================] - 34s 651us/step - loss: 0.0050\n",
      "Epoch 91/100\n",
      "52202/52202 [==============================] - 32s 619us/step - loss: 0.0050\n",
      "Epoch 92/100\n",
      "52202/52202 [==============================] - 32s 609us/step - loss: 0.0050\n",
      "Epoch 93/100\n",
      "52202/52202 [==============================] - 32s 604us/step - loss: 0.0050\n",
      "Epoch 94/100\n",
      "52202/52202 [==============================] - 32s 620us/step - loss: 0.0050\n",
      "Epoch 95/100\n",
      "52202/52202 [==============================] - 33s 635us/step - loss: 0.0050\n",
      "Epoch 96/100\n",
      "52202/52202 [==============================] - 32s 619us/step - loss: 0.0050\n",
      "Epoch 97/100\n",
      "52202/52202 [==============================] - 32s 606us/step - loss: 0.0050\n",
      "Epoch 98/100\n",
      "52202/52202 [==============================] - 32s 609us/step - loss: 0.0050\n",
      "Epoch 99/100\n",
      "52202/52202 [==============================] - 32s 608us/step - loss: 0.0050\n",
      "Epoch 100/100\n",
      "52202/52202 [==============================] - 33s 633us/step - loss: 0.0050\n"
     ]
    },
    {
     "data": {
      "text/plain": "<keras.callbacks.History at 0x1a74305aa30>"
     },
     "execution_count": 30,
     "metadata": {},
     "output_type": "execute_result"
    }
   ],
   "source": [
    "# create and fit the LSTM network\n",
    "model = Sequential()\n",
    "model.add(LSTM(4, input_shape=(1, look_back)))\n",
    "model.add(Dense(1))\n",
    "model.compile(loss='mean_squared_error', optimizer='adam')\n",
    "model.fit(trainX, trainY, epochs=100, batch_size=1, verbose=1)"
   ]
  },
  {
   "cell_type": "code",
   "execution_count": 31,
   "metadata": {
    "pycharm": {
     "name": "#%%\n"
    }
   },
   "outputs": [
    {
     "name": "stdout",
     "output_type": "stream",
     "text": [
      "Train Score: 0.99 RMSE\n",
      "Test Score: 0.52 RMSE\n"
     ]
    }
   ],
   "source": [
    "# make predictions\n",
    "trainPredict = model.predict(trainX)\n",
    "testPredict = model.predict(testX)\n",
    "# invert predictions\n",
    "trainPredict = scaler.inverse_transform(trainPredict)\n",
    "trainY = scaler.inverse_transform([trainY])\n",
    "testPredict = scaler.inverse_transform(testPredict)\n",
    "testY = scaler.inverse_transform([testY])\n",
    "# calculate root mean squared error\n",
    "trainScore = math.sqrt(mean_squared_error(trainY[0], trainPredict[:,0]))\n",
    "print('Train Score: %.2f RMSE' % (trainScore))\n",
    "testScore = math.sqrt(mean_squared_error(testY[0], testPredict[:,0]))\n",
    "print('Test Score: %.2f RMSE' % (testScore))"
   ]
  },
  {
   "cell_type": "code",
   "execution_count": 32,
   "metadata": {
    "pycharm": {
     "name": "#%%\n"
    }
   },
   "outputs": [
    {
     "data": {
      "text/plain": "<Figure size 432x288 with 1 Axes>",
      "image/png": "[encoded data removed]"
     },
     "metadata": {
      "needs_background": "light"
     },
     "output_type": "display_data"
    }
   ],
   "source": [
    "# shift train predictions for plotting\n",
    "trainPredictPlot = numpy.empty_like(dataset)\n",
    "trainPredictPlot[:, :] = numpy.nan\n",
    "trainPredictPlot[10:len(trainPredict)+look_back, :] = trainPredict\n",
    "# shift test predictions for plotting\n",
    "testPredictPlot = numpy.empty_like(dataset)\n",
    "testPredictPlot[:, :] = numpy.nan\n",
    "testPredictPlot[len(trainPredict)+(look_back*2)+1:len(dataset)-1, :] = testPredict\n",
    "# plot baseline and predictions\n",
    "plt.plot(scaler.inverse_transform(dataset))\n",
    "plt.plot(trainPredictPlot)\n",
    "plt.plot(testPredictPlot)\n",
    "plt.show()\n",
    "\n"
   ]
  }
 ],
 "metadata": {
  "kernelspec": {
   "display_name": "Python 3 (ipykernel)",
   "language": "python",
   "name": "python3"
  },
  "language_info": {
   "codemirror_mode": {
    "name": "ipython",
    "version": 3
   },
   "file_extension": ".py",
   "mimetype": "text/x-python",
   "name": "python",
   "nbconvert_exporter": "python",
   "pygments_lexer": "ipython3",
   "version": "3.9.1"
  }
 },
 "nbformat": 4,
 "nbformat_minor": 1
}