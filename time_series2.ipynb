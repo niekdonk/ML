{
 "cells": [
  {
   "cell_type": "code",
   "execution_count": 1,
   "metadata": {},
   "outputs": [],
   "source": [
    "import os\n",
    "import datetime\n",
    "\n",
    "import IPython\n",
    "import IPython.display\n",
    "import matplotlib as mpl\n",
    "import matplotlib.pyplot as plt\n",
    "import numpy as np\n",
    "import pandas as pd\n",
    "import seaborn as sns\n",
    "import tensorflow as tf\n",
    "from sklearn.preprocessing import MinMaxScaler\n",
    "\n",
    "d = pd.read_csv('./datapoints.csv')\n",
    "d = d[d['name'].str.contains(\"BLOK61\")]\n",
    "\n",
    "# Converting the dt column to datetime object\n",
    "d['timestamp'] = pd.to_datetime(d.pop('timestamp'), format='%Y-%m-%d %H:%M:%S')\n",
    "\n",
    "d.sort_values('timestamp', inplace=True)\n"
   ]
  },
  {
   "cell_type": "code",
   "execution_count": 2,
   "metadata": {
    "pycharm": {
     "name": "#%%\n"
    }
   },
   "outputs": [
    {
     "data": {
      "text/plain": "                     name attribute_name  value               timestamp  hour  \\\n45023  Philitelaan BLOK61       occupied    3.0 2021-04-05 02:00:50.497     2   \n45025  Philitelaan BLOK61       occupied    3.0 2021-04-05 02:01:57.041     2   \n45027  Philitelaan BLOK61       occupied    3.0 2021-04-05 02:03:02.028     2   \n45029  Philitelaan BLOK61       occupied    3.0 2021-04-05 02:04:07.265     2   \n45031  Philitelaan BLOK61       occupied    3.0 2021-04-05 02:05:15.001     2   \n\n        day_cos  day_sin  \n45023  0.866025      0.5  \n45025  0.866025      0.5  \n45027  0.866025      0.5  \n45029  0.866025      0.5  \n45031  0.866025      0.5  ",
      "text/html": "<div>\n<style scoped>\n    .dataframe tbody tr th:only-of-type {\n        vertical-align: middle;\n    }\n\n    .dataframe tbody tr th {\n        vertical-align: top;\n    }\n\n    .dataframe thead th {\n        text-align: right;\n    }\n</style>\n<table border=\"1\" class=\"dataframe\">\n  <thead>\n    <tr style=\"text-align: right;\">\n      <th></th>\n      <th>name</th>\n      <th>attribute_name</th>\n      <th>value</th>\n      <th>timestamp</th>\n      <th>hour</th>\n      <th>day_cos</th>\n      <th>day_sin</th>\n    </tr>\n  </thead>\n  <tbody>\n    <tr>\n      <th>45023</th>\n      <td>Philitelaan BLOK61</td>\n      <td>occupied</td>\n      <td>3.0</td>\n      <td>2021-04-05 02:00:50.497</td>\n      <td>2</td>\n      <td>0.866025</td>\n      <td>0.5</td>\n    </tr>\n    <tr>\n      <th>45025</th>\n      <td>Philitelaan BLOK61</td>\n      <td>occupied</td>\n      <td>3.0</td>\n      <td>2021-04-05 02:01:57.041</td>\n      <td>2</td>\n      <td>0.866025</td>\n      <td>0.5</td>\n    </tr>\n    <tr>\n      <th>45027</th>\n      <td>Philitelaan BLOK61</td>\n      <td>occupied</td>\n      <td>3.0</td>\n      <td>2021-04-05 02:03:02.028</td>\n      <td>2</td>\n      <td>0.866025</td>\n      <td>0.5</td>\n    </tr>\n    <tr>\n      <th>45029</th>\n      <td>Philitelaan BLOK61</td>\n      <td>occupied</td>\n      <td>3.0</td>\n      <td>2021-04-05 02:04:07.265</td>\n      <td>2</td>\n      <td>0.866025</td>\n      <td>0.5</td>\n    </tr>\n    <tr>\n      <th>45031</th>\n      <td>Philitelaan BLOK61</td>\n      <td>occupied</td>\n      <td>3.0</td>\n      <td>2021-04-05 02:05:15.001</td>\n      <td>2</td>\n      <td>0.866025</td>\n      <td>0.5</td>\n    </tr>\n  </tbody>\n</table>\n</div>"
     },
     "execution_count": 2,
     "metadata": {},
     "output_type": "execute_result"
    }
   ],
   "source": [
    "# Extracting the hour of day\n",
    "d[\"hour\"] = [x.hour for x in d[\"timestamp\"]]\n",
    "# Creating the cyclical daily feature\n",
    "d[\"day_cos\"] = [np.cos(x * (2 * np.pi / 24)) for x in d[\"hour\"]]\n",
    "d[\"day_sin\"] = [np.sin(x * (2 * np.pi / 24)) for x in d[\"hour\"]]\n",
    "\n",
    "d.head()"
   ]
  },
  {
   "cell_type": "code",
   "execution_count": 3,
   "outputs": [],
   "source": [
    "# Extracting the timestamp from the datetime object\n",
    "d[\"timestamp\"] = [x.timestamp() for x in d[\"timestamp\"]]\n",
    "# Seconds in day\n",
    "s = 24 * 60 * 60\n",
    "# Seconds in year\n",
    "year = (365.25) * s\n",
    "d[\"month_cos\"] = [np.cos((x) * (2 * np.pi / year)) for x in d[\"timestamp\"]]\n",
    "d[\"month_sin\"] = [np.sin((x) * (2 * np.pi / year)) for x in d[\"timestamp\"]]\n"
   ],
   "metadata": {
    "collapsed": false,
    "pycharm": {
     "name": "#%%\n"
    }
   }
  },
  {
   "cell_type": "code",
   "execution_count": 4,
   "outputs": [],
   "source": [
    "def create_X_Y(ts: np.array, lag=1, n_ahead=1, target_index=0) -> tuple:\n",
    "    \"\"\"\n",
    "    A method to create X and Y matrix from a time series array for the training of\n",
    "    deep learning models\n",
    "    \"\"\"\n",
    "    # Extracting the number of features that are passed from the array\n",
    "    n_features = ts.shape[1]\n",
    "\n",
    "    # Creating placeholder lists\n",
    "    X, Y = [], []\n",
    "\n",
    "    if len(ts) - lag <= 0:\n",
    "        X.append(ts)\n",
    "    else:\n",
    "        for i in range(len(ts) - lag - n_ahead):\n",
    "            Y.append(ts[(i + lag):(i + lag + n_ahead), target_index])\n",
    "            X.append(ts[i:(i + lag)])\n",
    "\n",
    "    X, Y = np.array(X), np.array(Y)\n",
    "\n",
    "    # Reshaping the X array to an RNN input shape\n",
    "    X = np.reshape(X, (X.shape[0], lag, n_features))\n",
    "\n",
    "    return X, Y\n"
   ],
   "metadata": {
    "collapsed": false,
    "pycharm": {
     "name": "#%%\n"
    }
   }
  },
  {
   "cell_type": "code",
   "execution_count": 4,
   "outputs": [],
   "source": [],
   "metadata": {
    "collapsed": false,
    "pycharm": {
     "name": "#%%\n"
    }
   }
  },
  {
   "cell_type": "code",
   "execution_count": 4,
   "outputs": [],
   "source": [],
   "metadata": {
    "collapsed": false,
    "pycharm": {
     "name": "#%%\n"
    }
   }
  },
  {
   "cell_type": "code",
   "execution_count": 4,
   "outputs": [],
   "source": [],
   "metadata": {
    "collapsed": false,
    "pycharm": {
     "name": "#%%\n"
    }
   }
  },
  {
   "cell_type": "code",
   "execution_count": 4,
   "outputs": [],
   "source": [],
   "metadata": {
    "collapsed": false,
    "pycharm": {
     "name": "#%%\n"
    }
   }
  },
  {
   "cell_type": "code",
   "execution_count": 4,
   "outputs": [],
   "source": [],
   "metadata": {
    "collapsed": false,
    "pycharm": {
     "name": "#%%\n"
    }
   }
  },
  {
   "cell_type": "code",
   "execution_count": 4,
   "outputs": [],
   "source": [
    "\n"
   ],
   "metadata": {
    "collapsed": false,
    "pycharm": {
     "name": "#%%\n"
    }
   }
  }
 ],
 "metadata": {
  "kernelspec": {
   "display_name": "Python 3 (ipykernel)",
   "language": "python",
   "name": "python3"
  },
  "language_info": {
   "codemirror_mode": {
    "name": "ipython",
    "version": 3
   },
   "file_extension": ".py",
   "mimetype": "text/x-python",
   "name": "python",
   "nbconvert_exporter": "python",
   "pygments_lexer": "ipython3",
   "version": "3.9.1"
  }
 },
 "nbformat": 4,
 "nbformat_minor": 1
}